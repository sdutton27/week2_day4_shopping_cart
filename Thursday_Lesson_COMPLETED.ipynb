{
 "cells": [
  {
   "cell_type": "markdown",
   "metadata": {},
   "source": [
    "# Object-Oriented-Programming (OOP)"
   ]
  },
  {
   "cell_type": "markdown",
   "metadata": {},
   "source": [
    "## Tasks Today:\n",
    "\n",
    "   \n",
    "\n",
    "1) <b>Creating a Class (Initializing/Declaring)</b> <br>\n",
    "2) <b>Using a Class (Instantiating)</b> <br>\n",
    " &nbsp;&nbsp;&nbsp;&nbsp; a) Creating One Instance <br>\n",
    " &nbsp;&nbsp;&nbsp;&nbsp; b) Creating Multiple Instances <br>\n",
    " &nbsp;&nbsp;&nbsp;&nbsp; c) In-Class Exercise #1 - Create a Class 'Car' and instantiate three different makes of cars <br>\n",
    "3) <b>The \\__init\\__() Method</b> <br>\n",
    " &nbsp;&nbsp;&nbsp;&nbsp; a) The 'self' Attribute <br>\n",
    "4) <b>Class Attributes</b> <br>\n",
    " &nbsp;&nbsp;&nbsp;&nbsp; a) Initializing Attributes <br>\n",
    " &nbsp;&nbsp;&nbsp;&nbsp; b) Setting an Attribute Outside of the \\__init\\__() Method <br>\n",
    " &nbsp;&nbsp;&nbsp;&nbsp; c) Setting Defaults for Attributes <br>\n",
    " &nbsp;&nbsp;&nbsp;&nbsp; d) Accessing Class Attributes <br>\n",
    " &nbsp;&nbsp;&nbsp;&nbsp; e) Changing Class Attributes <br>\n",
    " &nbsp;&nbsp;&nbsp;&nbsp; f) In-Class Exercise #2 - Add a color and wheels attribute to your 'Car' class <br>\n",
    "5) <b>Class Methods</b> <br>\n",
    " &nbsp;&nbsp;&nbsp;&nbsp; a) Creating <br>\n",
    " &nbsp;&nbsp;&nbsp;&nbsp; b) Calling <br>\n",
    " &nbsp;&nbsp;&nbsp;&nbsp; c) Modifying an Attribute's Value Through a Method <br>\n",
    " &nbsp;&nbsp;&nbsp;&nbsp; d) Incrementing an Attribute's Value Through a Method <br>\n",
    " &nbsp;&nbsp;&nbsp;&nbsp; e) In-Class Exercise #3 - Add a method that prints the cars color and wheel number, then call them <br>\n",
    "6) <b>Inheritance</b> <br>\n",
    " &nbsp;&nbsp;&nbsp;&nbsp; a) Syntax for Inheriting from a Parent Class <br>\n",
    " &nbsp;&nbsp;&nbsp;&nbsp; b) The \\__init\\__() Method for a Child Class (super()) <br>\n",
    " &nbsp;&nbsp;&nbsp;&nbsp; c) Defining Attributes and Methods for the Child Class <br>\n",
    " &nbsp;&nbsp;&nbsp;&nbsp; d) Method Overriding <br>\n",
    " &nbsp;&nbsp;&nbsp;&nbsp; e) In-Class Exercise #4 - Create a class 'Ford' that inherits from 'Car' class and initialize it as a Blue Ford Explorer with 4 wheels using the super() method <br>\n",
    "7) <b>Classes as Attributes</b> <br>\n",
    "8) <b>Exercises</b> <br>\n",
    " &nbsp;&nbsp;&nbsp;&nbsp; a) Exercise #1 - Turn the shopping cart program from yesterday into an object-oriented program <br>"
   ]
  },
  {
   "cell_type": "markdown",
   "metadata": {},
   "source": [
    "## Creating a Class (Initializing/Declaring)\n",
    "<p>When creating a class, function, or even a variable you are initializing that object. Initializing and Declaring occur at the same time in Python, whereas in lower level languages you have to declare an object before initializing it. This is the first step in the process of using a class.</p>"
   ]
  },
  {
   "cell_type": "code",
   "execution_count": 4,
   "metadata": {},
   "outputs": [],
   "source": [
    "class Car():\n",
    "    wheels = 4\n",
    "    color = 'blue'"
   ]
  },
  {
   "cell_type": "markdown",
   "metadata": {},
   "source": [
    "## Using a Class (Instantiating)\n",
    "<p>The process of creating a class is called <i>Instantiating</i>. Each time you create a variable of that type of class, it is referred to as an <i>Instance</i> of that class. This is the second step in the process of using a class.</p>"
   ]
  },
  {
   "cell_type": "markdown",
   "metadata": {},
   "source": [
    "##### Creating One Instance"
   ]
  },
  {
   "cell_type": "code",
   "execution_count": 6,
   "metadata": {},
   "outputs": [
    {
     "name": "stdout",
     "output_type": "stream",
     "text": [
      "blue\n"
     ]
    }
   ],
   "source": [
    "ford = Car()\n",
    "\n",
    "print(ford.color)"
   ]
  },
  {
   "cell_type": "markdown",
   "metadata": {},
   "source": [
    "##### Creating Multiple Instances"
   ]
  },
  {
   "cell_type": "code",
   "execution_count": 9,
   "metadata": {},
   "outputs": [
    {
     "name": "stdout",
     "output_type": "stream",
     "text": [
      "<class 'str'>\n"
     ]
    },
    {
     "ename": "AttributeError",
     "evalue": "'Car' object has no attribute 'bumper'",
     "output_type": "error",
     "traceback": [
      "\u001b[1;31m---------------------------------------------------------------------------\u001b[0m",
      "\u001b[1;31mAttributeError\u001b[0m                            Traceback (most recent call last)",
      "\u001b[1;32m<ipython-input-9-588218de20be>\u001b[0m in \u001b[0;36m<module>\u001b[1;34m\u001b[0m\n\u001b[0;32m      4\u001b[0m \u001b[1;33m\u001b[0m\u001b[0m\n\u001b[0;32m      5\u001b[0m \u001b[0mprint\u001b[0m\u001b[1;33m(\u001b[0m\u001b[0mtype\u001b[0m\u001b[1;33m(\u001b[0m\u001b[0mporsche\u001b[0m\u001b[1;33m.\u001b[0m\u001b[0mcolor\u001b[0m\u001b[1;33m)\u001b[0m\u001b[1;33m)\u001b[0m\u001b[1;33m\u001b[0m\u001b[1;33m\u001b[0m\u001b[0m\n\u001b[1;32m----> 6\u001b[1;33m \u001b[0mprint\u001b[0m\u001b[1;33m(\u001b[0m\u001b[0mporsche\u001b[0m\u001b[1;33m.\u001b[0m\u001b[0mbumper\u001b[0m\u001b[1;33m)\u001b[0m\u001b[1;33m\u001b[0m\u001b[1;33m\u001b[0m\u001b[0m\n\u001b[0m",
      "\u001b[1;31mAttributeError\u001b[0m: 'Car' object has no attribute 'bumper'"
     ]
    }
   ],
   "source": [
    "chevy = Car()\n",
    "honda = Car()\n",
    "porsche = Car()\n",
    "\n",
    "print(type(porsche.color))\n",
    "print(porsche.bumper)"
   ]
  },
  {
   "cell_type": "markdown",
   "metadata": {},
   "source": [
    "##### In-Class Exercise #1 - Create a Class 'Car' and Instantiate three different makes of cars"
   ]
  },
  {
   "cell_type": "code",
   "execution_count": 10,
   "metadata": {},
   "outputs": [
    {
     "name": "stdout",
     "output_type": "stream",
     "text": [
      "red\n",
      "4\n"
     ]
    }
   ],
   "source": [
    "class Car():\n",
    "    doors = 4\n",
    "    color = \"red\"\n",
    "    wheels = 4\n",
    "    sunRoof = \"Yes\"\n",
    "    \n",
    "maz = Car()\n",
    "bently = Car()\n",
    "fer = Car()\n",
    "\n",
    "print(bently.color)\n",
    "print(bently.wheels)"
   ]
  },
  {
   "cell_type": "markdown",
   "metadata": {},
   "source": [
    "## The \\__init\\__() Method <br>\n",
    "<p>This method is used in almost every created class, and called only once upon the creation of the class instance. This method will initialize all variables needed for the object.</p>"
   ]
  },
  {
   "cell_type": "code",
   "execution_count": 11,
   "metadata": {},
   "outputs": [
    {
     "name": "stdout",
     "output_type": "stream",
     "text": [
      "4\n",
      "6\n"
     ]
    }
   ],
   "source": [
    "class Car():\n",
    "    engine = '4.7L' # constant-attribute\n",
    "    \n",
    "    def __init__(self,wheels,color):\n",
    "        self.wheels = wheels\n",
    "        self.color = color\n",
    "        \n",
    "ford = Car(4,'red')\n",
    "chevy = Car(6, 'black')\n",
    "\n",
    "print(ford.wheels)\n",
    "print(chevy.wheels)"
   ]
  },
  {
   "cell_type": "markdown",
   "metadata": {},
   "source": [
    "##### The 'self' Attribute <br>\n",
    "<p>This attribute is required to keep track of specific instance's attributes. Without the self attribute, the program would not know how to reference or keep track of an instance's attributes.</p>"
   ]
  },
  {
   "cell_type": "code",
   "execution_count": null,
   "metadata": {},
   "outputs": [],
   "source": [
    "# see above"
   ]
  },
  {
   "cell_type": "markdown",
   "metadata": {},
   "source": [
    "## Class Attributes <br>\n",
    "<p>While variables are inside of a class, they are referred to as attributes and not variables. When someone says 'attribute' you know they're speaking about a class. Attributes can be initialized through the init method, or outside of it.</p>"
   ]
  },
  {
   "cell_type": "markdown",
   "metadata": {},
   "source": [
    "##### Initializing Attributes"
   ]
  },
  {
   "cell_type": "code",
   "execution_count": 12,
   "metadata": {},
   "outputs": [],
   "source": [
    "# see above\n",
    "\n",
    "class Toy():\n",
    "    kind = \"car\" # Constant - DOES NOT CHANGE FREQUENTLY\n",
    "    \n",
    "    def __init__(self,rooftop,horn,wheels):\n",
    "        self.rooftop = rooftop\n",
    "        self.horn = horn\n",
    "        self.wheels = wheels\n",
    "        \n",
    "tanka_truck = Toy(1,1,4) # 1 rooftop, 1 horn, 4 wheels\n",
    "hotwheels_car = Toy(2, 3, 8) # 2 rooftops, 3 horns, 8 wheels"
   ]
  },
  {
   "cell_type": "markdown",
   "metadata": {},
   "source": [
    "##### Accessing Class Attributes"
   ]
  },
  {
   "cell_type": "code",
   "execution_count": 13,
   "metadata": {
    "scrolled": true
   },
   "outputs": [
    {
     "data": {
      "text/plain": [
       "1"
      ]
     },
     "execution_count": 13,
     "metadata": {},
     "output_type": "execute_result"
    }
   ],
   "source": [
    "# See Above\n",
    "tanka_truck.rooftop"
   ]
  },
  {
   "cell_type": "markdown",
   "metadata": {},
   "source": [
    "##### Setting Defaults for Attributes"
   ]
  },
  {
   "cell_type": "code",
   "execution_count": 14,
   "metadata": {},
   "outputs": [],
   "source": [
    "class Car():\n",
    "    engine = '4.7L'\n",
    "    \n",
    "    def __init__(self,wheels):\n",
    "        self.wheels = wheels\n",
    "        self.color = 'Blue' # Default Attribute\n",
    "        \n",
    "honda = Car(4)\n",
    "jeep = Car(8)"
   ]
  },
  {
   "cell_type": "markdown",
   "metadata": {},
   "source": [
    "##### Changing Class Attributes <br>\n",
    "<p>Keep in mind there are global class attributes and then there are attributes only available to each class instance which won't effect other classes.</p>"
   ]
  },
  {
   "cell_type": "code",
   "execution_count": 17,
   "metadata": {},
   "outputs": [
    {
     "name": "stdout",
     "output_type": "stream",
     "text": [
      "BEFORE CHANGE: White\n",
      "\n",
      " AFTER CHANGE: White\n"
     ]
    }
   ],
   "source": [
    "# Changing the Default Attribute for this example\n",
    "print(f'BEFORE CHANGE: {jeep.color}')\n",
    "\n",
    "jeep.color = 'White'\n",
    "\n",
    "print(f'\\n AFTER CHANGE: {jeep.color}')\n"
   ]
  },
  {
   "cell_type": "code",
   "execution_count": null,
   "metadata": {},
   "outputs": [],
   "source": []
  },
  {
   "cell_type": "markdown",
   "metadata": {},
   "source": [
    "##### In-Class Exercise #2 - Add a doors and seats attribute to your 'Car' class then print out two different instances with different doors and seats"
   ]
  },
  {
   "cell_type": "code",
   "execution_count": 22,
   "metadata": {},
   "outputs": [
    {
     "name": "stdout",
     "output_type": "stream",
     "text": [
      "Jeep seats: 4 and Jeep doors: 4 \n",
      "Honda seats: 2 and Honda doors: 2\n"
     ]
    }
   ],
   "source": [
    "# Jeep seats: 4 and Jeep doors: 4 \n",
    "# Honda seats: 2 and Honda doors: 2\n",
    "\n",
    "class Car():\n",
    "    speed = \"30MPH\"\n",
    "    \n",
    "    def __init__(self,doors,seats = 4):\n",
    "        self.doors = doors\n",
    "        self.seats = seats\n",
    "        \n",
    "honda = Car(2,2)\n",
    "jeep = Car(4,4)\n",
    "\n",
    "print(f\"Jeep seats: {jeep.seats} and Jeep doors: {jeep.doors} \")\n",
    "print(f\"Honda seats: {honda.seats} and Honda doors: {honda.doors}\")"
   ]
  },
  {
   "cell_type": "markdown",
   "metadata": {},
   "source": [
    "## Class Methods <br>\n",
    "<p>While inside of a class, functions are referred to as 'methods'. If you hear someone mention methods, they're speaking about classes. Methods are essentially functions, but only callable on the instances of a class.</p>"
   ]
  },
  {
   "cell_type": "markdown",
   "metadata": {},
   "source": [
    "##### Creating"
   ]
  },
  {
   "cell_type": "code",
   "execution_count": 23,
   "metadata": {},
   "outputs": [],
   "source": [
    "class ShoppingBag():\n",
    "    \"\"\"\n",
    "        The ShoppingBag Class will have handles, capacity and items\n",
    "        to place inside.\n",
    "        \n",
    "        Attributes for the class:\n",
    "        - handles: expected to be an integer\n",
    "        - capacity: expected to be a string OR an integer\n",
    "        - items: expected to be a list\n",
    "    \"\"\"\n",
    "    \n",
    "    def __init__(self,handles,capacity,items):\n",
    "        self.handles = handles\n",
    "        self.capacity = capacity\n",
    "        self.items = items\n",
    "        \n",
    "    # Method that shows the shoppingBag items\n",
    "    def showShoppingBag(self):\n",
    "        print(\"You Have items in your bag!!!\")\n",
    "        for item in self.items:\n",
    "            print(item)\n",
    "    \n",
    "    # Show capacity of shoppingBag\n",
    "    def showCapacity(self):\n",
    "        print(f'Your Capacity is: {self.capacity}')\n",
    "        \n",
    "    # Add Item(s) to the items list for the shoppingBag\n",
    "    def addToShoppingBag(self):\n",
    "        products = input('What would you like to add? ')\n",
    "        self.items.append(products)\n",
    "        \n",
    "    # Change the capacity of the shoppingBag (dynamically)\n",
    "    def changeBagCapacity(self, capacity):\n",
    "        self.capacity = capacity\n",
    "        \n",
    "    # Increase Capacity of the shoppingBag by 10 -- default\n",
    "    def increaseCapacity(self, changed_capacity = 10):\n",
    "        if self.capacity == isinstance(self.capacity, str):\n",
    "            print(\"We can't do that here boss...\")\n",
    "        else:\n",
    "            self.capacity += changed_capacity"
   ]
  },
  {
   "cell_type": "markdown",
   "metadata": {},
   "source": [
    "##### Calling"
   ]
  },
  {
   "cell_type": "code",
   "execution_count": 24,
   "metadata": {},
   "outputs": [
    {
     "name": "stdout",
     "output_type": "stream",
     "text": [
      "What do you want to do? add/show/ or quitadd\n",
      "What would you like to add? bread\n",
      "What do you want to do? add/show/ or quitshow\n",
      "You Have items in your bag!!!\n",
      "bread\n",
      "What do you want to do? add/show/ or quitquit\n",
      "You Have items in your bag!!!\n",
      "bread\n",
      "Thanks for shopping\n"
     ]
    }
   ],
   "source": [
    "# See Above\n",
    "# Created and instance of the ShoppingBag Class\n",
    "wholeFoods_bag = ShoppingBag(2,10,[])\n",
    "\n",
    "# Create Function to run the shoppingBag(wholeFoods_bag) methods\n",
    "\n",
    "def run():\n",
    "    while True:\n",
    "        response = input('What do you want to do? add/show/ or quit')\n",
    "        \n",
    "        if response.lower() == 'quit':\n",
    "            wholeFoods_bag.showShoppingBag()\n",
    "            print('Thanks for shopping')\n",
    "            break\n",
    "        elif response.lower() == 'add':\n",
    "            wholeFoods_bag.addToShoppingBag()\n",
    "            \n",
    "        elif response.lower() == 'show':\n",
    "            wholeFoods_bag.showShoppingBag()\n",
    "            \n",
    "run()"
   ]
  },
  {
   "cell_type": "markdown",
   "metadata": {},
   "source": [
    "##### Modifying an Attribute's Value Through a Method"
   ]
  },
  {
   "cell_type": "code",
   "execution_count": 25,
   "metadata": {},
   "outputs": [
    {
     "name": "stdout",
     "output_type": "stream",
     "text": [
      "Your Capacity is: 10\n",
      "Capacity AFTER the change...\n",
      "Your Capacity is: 40\n"
     ]
    }
   ],
   "source": [
    "# Show Capacity\n",
    "wholeFoods_bag.showCapacity()\n",
    "print('Capacity AFTER the change...')\n",
    "wholeFoods_bag.changeBagCapacity(40)\n",
    "wholeFoods_bag.showCapacity()"
   ]
  },
  {
   "cell_type": "markdown",
   "metadata": {},
   "source": [
    "##### Incrementing an Attribute's Value Through a Method"
   ]
  },
  {
   "cell_type": "code",
   "execution_count": 26,
   "metadata": {},
   "outputs": [
    {
     "name": "stdout",
     "output_type": "stream",
     "text": [
      "Your Capacity is: 40\n",
      "After Increase\n",
      "Your Capacity is: 50\n"
     ]
    }
   ],
   "source": [
    "wholeFoods_bag.showCapacity()\n",
    "print('After Increase')\n",
    "wholeFoods_bag.increaseCapacity()\n",
    "wholeFoods_bag.showCapacity()"
   ]
  },
  {
   "cell_type": "markdown",
   "metadata": {},
   "source": [
    "##### In-Class Exercise #3 - Add a method that takes in three parameters of year, doors and seats and prints out a formatted print statement with make, model, year, seats, and doors"
   ]
  },
  {
   "cell_type": "code",
   "execution_count": 29,
   "metadata": {},
   "outputs": [
    {
     "name": "stdout",
     "output_type": "stream",
     "text": [
      "This car is a 2015 Ford Focus with 5 doors and 4 seats\n"
     ]
    }
   ],
   "source": [
    "# Create class with 2 paramters inside of the __init__ which are make and model\n",
    "\n",
    "# Inside of the Car class create a method that has 4 parameter in total (self,year,door,seats)\n",
    "\n",
    "# Output: This car is from 2019 and is a Ford Expolorer and has 4 doors and 5 seats\n",
    "class Car():\n",
    "    def __init__(self,make,model):\n",
    "        self.make = make\n",
    "        self.model = model\n",
    "    \n",
    "    def addDetails(self,year,doors,seats):\n",
    "        print(f'This car is a {year} {self.make} {self.model} with {doors} doors and {seats} seats')\n",
    "        \n",
    "#     def addDetails(self,year,doors,seats):\n",
    "#         self.year = year\n",
    "#         self.doors = doors\n",
    "#         self.seats = seats\n",
    "#         print(f\"This car is a {self.year} {self.make} {self.model} with {self.doors} doors and {self.seats} seats.\")\n",
    "\n",
    "    \n",
    "        \n",
    "my_car = Car('Ford','Focus')\n",
    "my_car.addDetails(2015,5,4)\n"
   ]
  },
  {
   "cell_type": "markdown",
   "metadata": {},
   "source": [
    "## Inheritance <br>\n",
    "<p>You can create a child-parent relationship between two classes by using inheritance. What this allows you to do is have overriding methods, but also inherit traits from the parent class. Think of it as an actual parent and child, the child will inherit the parent's genes, as will the classes in OOP</p>"
   ]
  },
  {
   "cell_type": "markdown",
   "metadata": {},
   "source": [
    "##### Syntax for Inheriting from a Parent Class"
   ]
  },
  {
   "cell_type": "code",
   "execution_count": 34,
   "metadata": {},
   "outputs": [
    {
     "name": "stdout",
     "output_type": "stream",
     "text": [
      "Bark\n",
      "Make Some Generic Sound\n",
      "None\n",
      "9.8\n"
     ]
    }
   ],
   "source": [
    "# Creation of our Parent Class -- Animal\n",
    "class Animal():\n",
    "    acceleration = 9.8\n",
    "    \n",
    "    def __init__(self,name,species,legs = 4):\n",
    "        self.name = name\n",
    "        self.species = species\n",
    "        self.legs = legs\n",
    "        \n",
    "    # Generic Parent(Animal) Method -- NO OVERRIDE YET\n",
    "    def makeSound(self):\n",
    "        print('Make Some Generic Sound')\n",
    "        \n",
    "# Creation of our Child Class -- Dog\n",
    "class Dog(Animal):\n",
    "    speed = 15\n",
    "    \n",
    "    def printInfo(self):\n",
    "        print(f\"The Dog has {self.speed}mph in speed and {self.acceleration}\")\n",
    "        \n",
    "\n",
    "# Creation of our Grand-Child Class -- Mut\n",
    "class Mut(Dog):\n",
    "    color = 'black & brown'\n",
    "    \n",
    "    # Overriding of the ANIMAL Class __init__ method (by way of using the Dog class)\n",
    "    def __init__(self, name, species, eye_color, legs = 4):\n",
    "        Dog.__init__(self,name,species,legs) \n",
    "        self.eye_color = eye_color\n",
    "        \n",
    "    # Overide the makeSound method (again coming from the ANIMAL class)\n",
    "    def makeSound(self):\n",
    "        noise = 'Bark'\n",
    "        return noise\n",
    "        \n",
    "lassie = Dog('Lassie','Dog')\n",
    "basic_animal = Animal('Generic Animal Name', 'Generic Animal Species')\n",
    "buster = Mut('Buster', 'Mut','black')\n",
    "\n",
    "print(buster.makeSound())\n",
    "print(basic_animal.makeSound())\n",
    "print(buster.acceleration)\n",
    "\n",
    "# Checking the inheritance tree for our Mut class\n"
   ]
  },
  {
   "cell_type": "markdown",
   "metadata": {},
   "source": [
    "##### The \\__init\\__() Method for a Child Class - super()"
   ]
  },
  {
   "cell_type": "code",
   "execution_count": 37,
   "metadata": {
    "scrolled": true
   },
   "outputs": [
    {
     "name": "stdout",
     "output_type": "stream",
     "text": [
      "Bark\n",
      "Make Some Generic Sound\n",
      "None\n",
      "9.8\n",
      "Help on class Mut in module __main__:\n",
      "\n",
      "class Mut(Dog)\n",
      " |  Mut(name, species, eye_color, legs=4)\n",
      " |  \n",
      " |  Method resolution order:\n",
      " |      Mut\n",
      " |      Dog\n",
      " |      Animal\n",
      " |      builtins.object\n",
      " |  \n",
      " |  Methods defined here:\n",
      " |  \n",
      " |  __init__(self, name, species, eye_color, legs=4)\n",
      " |      Initialize self.  See help(type(self)) for accurate signature.\n",
      " |  \n",
      " |  makeSound(self)\n",
      " |      # Overide the makeSound method (again coming from the ANIMAL class)\n",
      " |  \n",
      " |  ----------------------------------------------------------------------\n",
      " |  Data and other attributes defined here:\n",
      " |  \n",
      " |  color = 'black & brown'\n",
      " |  \n",
      " |  ----------------------------------------------------------------------\n",
      " |  Methods inherited from Dog:\n",
      " |  \n",
      " |  printInfo(self)\n",
      " |  \n",
      " |  ----------------------------------------------------------------------\n",
      " |  Data and other attributes inherited from Dog:\n",
      " |  \n",
      " |  speed = 15\n",
      " |  \n",
      " |  ----------------------------------------------------------------------\n",
      " |  Data descriptors inherited from Animal:\n",
      " |  \n",
      " |  __dict__\n",
      " |      dictionary for instance variables (if defined)\n",
      " |  \n",
      " |  __weakref__\n",
      " |      list of weak references to the object (if defined)\n",
      " |  \n",
      " |  ----------------------------------------------------------------------\n",
      " |  Data and other attributes inherited from Animal:\n",
      " |  \n",
      " |  acceleration = 9.8\n",
      "\n"
     ]
    }
   ],
   "source": [
    "class Mut(Dog):\n",
    "    color = 'black & brown'\n",
    "    \n",
    "    # Overriding of the ANIMAL Class __init__ method (by way of using the Dog class)\n",
    "    def __init__(self, name, species, eye_color, legs = 4):\n",
    "        super().__init__(name,species,legs) \n",
    "        self.eye_color = eye_color\n",
    "        \n",
    "    # Overide the makeSound method (again coming from the ANIMAL class)\n",
    "    def makeSound(self):\n",
    "        noise = 'Bark'\n",
    "        return noise\n",
    "    \n",
    "lassie = Dog('Lassie','Dog')\n",
    "basic_animal = Animal('Generic Animal Name', 'Generic Animal Species')\n",
    "buster = Mut('Buster', 'Mut','black')\n",
    "\n",
    "print(buster.makeSound())\n",
    "print(basic_animal.makeSound())\n",
    "print(buster.acceleration)\n",
    "\n",
    "help(Mut)"
   ]
  },
  {
   "cell_type": "markdown",
   "metadata": {},
   "source": [
    "##### Defining Attributes and Methods for the Child Class"
   ]
  },
  {
   "cell_type": "code",
   "execution_count": null,
   "metadata": {},
   "outputs": [],
   "source": [
    "# See Above"
   ]
  },
  {
   "cell_type": "markdown",
   "metadata": {},
   "source": [
    "##### Method Overriding"
   ]
  },
  {
   "cell_type": "code",
   "execution_count": null,
   "metadata": {},
   "outputs": [],
   "source": [
    "# See Above"
   ]
  },
  {
   "cell_type": "markdown",
   "metadata": {},
   "source": [
    "## Classes as Attributes <br>\n",
    "<p>Classes can also be used as attributes within another class. This is useful in situations where you need to keep variables locally stored, instead of globally stored.</p>"
   ]
  },
  {
   "cell_type": "code",
   "execution_count": 44,
   "metadata": {},
   "outputs": [
    {
     "name": "stdout",
     "output_type": "stream",
     "text": [
      "20\n"
     ]
    },
    {
     "data": {
      "text/plain": [
       "'2019 Tesla Model X 20'"
      ]
     },
     "execution_count": 44,
     "metadata": {},
     "output_type": "execute_result"
    }
   ],
   "source": [
    "class Battery():\n",
    "    volts = 7.8\n",
    "    \n",
    "    def __init__(self, cells):\n",
    "        self.cells = cells\n",
    "        \n",
    "class Car():\n",
    "    def __init__(self,year,make,model,battery):\n",
    "        self.year = year\n",
    "        self.make = make\n",
    "        self.model = model\n",
    "        self.battery = battery\n",
    "        \n",
    "    def printInfo(self):\n",
    "        return f'{self.year} {self.make} {self.model} {self.battery.cells}'\n",
    "    \n",
    "battery = Battery(20)\n",
    "\n",
    "telsa = Car(2019, 'Tesla', \"Model X\", battery)\n",
    "\n",
    "print(telsa.battery.cells)\n",
    "telsa.printInfo()"
   ]
  },
  {
   "cell_type": "markdown",
   "metadata": {},
   "source": [
    "# Exercises"
   ]
  },
  {
   "cell_type": "markdown",
   "metadata": {},
   "source": [
    "### Exercise 1 - Turn the shopping cart program from yesterday into an object-oriented program\n",
    "\n",
    "The comments in the cell below are there as a guide for thinking about the problem. However, if you feel a different way is best for you and your own thought process, please do what feels best for you by all means."
   ]
  },
  {
   "cell_type": "code",
   "execution_count": 17,
   "metadata": {},
   "outputs": [
    {
     "name": "stdout",
     "output_type": "stream",
     "text": [
      "Let me scan your items.\n",
      "\n",
      "Item: Eggs\n",
      "Quantity: 3\n",
      "There is a $2 extra fee per dairy product.\n",
      "Price per unit: $11.72\n",
      "Price for 3 items x $11.72= $35.16\n",
      "\n",
      "Item: Milk\n",
      "Quantity: 2\n",
      "There is a $2 extra fee per dairy product.\n",
      "Price per unit: $11.92\n",
      "Price for 2 items x $11.92= $23.84\n",
      "\n",
      "Total Price: $59.0\n",
      "Sales Tax (2%): $1.18\n",
      "Final Total: $60.18\n",
      "\n",
      "Thank you for shopping with us today. Please come back again soon.\n"
     ]
    }
   ],
   "source": [
    "# Create a class called cart that retains items and has methods to add, remove, and show\n",
    "from IPython.display import clear_output\n",
    "import random\n",
    "\n",
    "# The CART class\n",
    "class Cart():\n",
    "    \"\"\"\n",
    "    Cart()\n",
    "      A class that creates a shopping cart item and holds its functions\n",
    "    \"\"\"\n",
    "    # init\n",
    "    def __init__(self):\n",
    "        self.shopping_list = {}\n",
    "        self.shop_message = f\"Type 'add' if you want to add something to your \\\n",
    "            cart, 'delete' if you want to delete something from your cart, \\\n",
    "                'show' if you want to view your current cart, 'clear' if you \\\n",
    "                    would like to delete everything off the current cart, or \\\n",
    "                        'pay' if you would like to check out.\"\n",
    "                        #### CHANGE QUIT TO CHECKOUT\n",
    "        self.section_list = []\n",
    "        self.total = 0.00\n",
    "    \n",
    "    # user input upon starting shopping\n",
    "    def startShopping(self):\n",
    "        \"\"\"\n",
    "        startShopping()\n",
    "        A function that prints the welcome message. Returns the response to the \n",
    "        input message.\n",
    "        \"\"\"\n",
    "        return input(f\"Welcome to CT Mart, where everything is under $10.\\\n",
    "                     \\n{self.shop_message}\").lower()\n",
    "    \n",
    "    # when the user types 'add', all the input to create an item to add to the cart\n",
    "    def addItemToCart(self):\n",
    "        \"\"\"\n",
    "        addItemToCart()\n",
    "        A function that adds a ShoppingList item to the shopping cart.\n",
    "        Returns the response to the input message asking what the user wants to do next.\n",
    "        \"\"\"\n",
    "        #item\n",
    "        item = input(\"What would you like to buy?\").title()\n",
    "        \n",
    "        #quantity\n",
    "        try: # make sure the added quantity input is an int\n",
    "            quantity = int(input(\"How many of that item would you like to buy? \"+\n",
    "                            \"Please enter the number in digits.\"))\n",
    "        except: # if the user did not type an int, ask user to start over\n",
    "            return input(f\"You did not type a proper value, so I have assumed you decided\\\n",
    "                    not to add this item. Let's try again.\\n{self.shop_message}\").lower()\n",
    "        #section\n",
    "        section = input(\"What section of the store does that item belong in? \\\n",
    "                             Leave it blank and press 'enter' if you do not know.\").upper()\n",
    "        if section not in self.section_list and section: #if item has a known section\n",
    "            self.section_list.append(section) #adds section to the list of sections\n",
    "        # if item has not yet been put in\n",
    "        if item not in self.shopping_list.keys():\n",
    "            price = round(random.uniform(1,10), 2)\n",
    "            if section == 'DAIRY': # tax on dairy items due to my allergy\n",
    "                price += 2\n",
    "            if section == '': # if the section has been left blank->unknown section\n",
    "                    self.section_list.append('SECTION UNKNOWN') #adds unknown section to the list of sections\n",
    "                    self.shopping_list[item] = ShoppingItem(item, quantity, price) # use default section\n",
    "            else:\n",
    "                    self.shopping_list[item] = ShoppingItem(item, quantity, price, section)\n",
    "            updated = \"Your item has been added to the cart.\" #if the item was not updated, don't print this message\n",
    "        else: # if item was already on the list\n",
    "            self.shopping_list[item].setQuantity(quantity) #update the quantity\n",
    "            updated = \"The quantity of that item has been updated.\\n\"\n",
    "\n",
    "        return input(f\"{updated}Would you like to add another item? {self.shop_message}\").lower()\n",
    "    \n",
    "    def delFromShoppingCart(self):\n",
    "        \"\"\"\n",
    "        delFromShoppingCart()\n",
    "        A function that deletes a ShoppingList item from the shopping cart.\n",
    "        Returns the response to the input message asking what the user wants to do next.\n",
    "        \"\"\"\n",
    "        if self.shopping_list: #if there is something in the cart\n",
    "            item = input(\"Which item would you like to delete?\").title()\n",
    "            try: # make sure that item is in the cart\n",
    "                del_item = self.shopping_list.pop(item) \n",
    "                for key in self.shopping_list.keys():\n",
    "                    if self.shopping_list[key].getSection() == del_item.getSection():\n",
    "                        break #if there's another item under the same section\n",
    "                else:\n",
    "                    self.section_list.remove(del_item.getSection()) #otherwise delete that section from the list\n",
    "                return input(f\"{item.title()} has been successfully removed \\\n",
    "                         from your shopping list. {self.shop_message}\").lower()\n",
    "            except:\n",
    "                return input(f\"{item.title()} was not found in your shopping cart. {self.shop_message}\").lower()\n",
    "        else: # nothing in the cart so far\n",
    "            self.total = 100 #FINE for not listening\n",
    "            return input (f\"Ummmm... you can't remove an item from your cart if there's\\\n",
    "                          nothing in the cart... unless you want to remove the cart itself?\\\n",
    "                          I'm fining you for insulting me in this way. Anyway...\\n\\\n",
    "                          {self.shop_message}\").lower()\n",
    "\n",
    "    def formattedShoppingCart(self):\n",
    "        \"\"\"\n",
    "        formattedShoppingCart()\n",
    "        A function that prints out the shopping list, ordered by section of the store.\n",
    "        Returns the formatted string of items in the cart, their quantities, and their \n",
    "        prices.\n",
    "        \"\"\"\n",
    "        list_string = f\"Here is the list of items in your shopping cart:\"\n",
    "        # how to print sorted by Section in store\n",
    "        for index in range(0, len(self.section_list)):\n",
    "            list_string += f\"\\n{self.section_list[index]}:\\n\"\n",
    "            for item in self.shopping_list.keys(): #print every item of a certain section before changing section\n",
    "                if self.shopping_list[item].getSection() == self.section_list[index]:\n",
    "                    list_string +=f\"\\t{item.title()} x {self.shopping_list[item].getQuantity()} x ${self.shopping_list[item].getPrice()}\\n\"\n",
    "        return list_string\n",
    "    \n",
    "    def showShoppingList(self):\n",
    "        \"\"\"\n",
    "        showShoppingList()\n",
    "        Prints the formatted shopping list.\n",
    "        Returns the response to what the user inputs that they want to do next\n",
    "        \"\"\"\n",
    "        clear_output()\n",
    "        print (self.formattedShoppingCart())\n",
    "        return input (f\"I have printed the items currently in your cart.\\n\\\n",
    "                      {self.shop_message}\")\n",
    "    \n",
    "    def incorrectInput(self):\n",
    "        \"\"\"\n",
    "        incorrectInput()\n",
    "        A function that tells the user they gave an incorrect input.\n",
    "        Returns the response to what the user inputs that they want to do next\n",
    "        \"\"\"\n",
    "        return input (f\"You did not type any of the listed commands. Please\\\n",
    "                      check your spelling and try again.\\n{self.shop_message}\")\n",
    "\n",
    "    def clearCart(self):\n",
    "        \"\"\"\n",
    "        clearCart()\n",
    "        The function that completely clears the cart. If the user does not have \n",
    "        anything currently in the cart, it adds a $1000 Clorox wipe to their cart\n",
    "        for not following logic.\n",
    "        Returns the response of what the user has inputted they want to do next\n",
    "        \"\"\"\n",
    "        if self.shopping_list: # if there is something in the cart\n",
    "            clear_decision = input(\"Are you sure you would like to clear your list?\"+\n",
    "                                    \"Type 'yes' or 'no'.\").lower()\n",
    "            if (clear_decision == 'yes'): # make sure user actually wants to delete list\n",
    "                self.shopping_list = {}\n",
    "                return input(\"I have cleared your entire shopping list.\\nType 'add'\"+\n",
    "                                \" to add an item to your newly emptied list.\").lower()\n",
    "            else: # if user did not type 'yes'\n",
    "                return input(f\"I did not get a clear 'yes' confirmation from you, \\\n",
    "                                so for your security, I did not clear the list. \\\n",
    "                                Feel free to try again.\\n{self.shop_message}\").lower()\n",
    "        else: # if there is not anything in the cart\n",
    "            self.shopping_list[\"used Clorox wipe from 'cleaning' out your cart\"] = ShoppingItem(\"used Clorox wipe from 'cleaning' out your cart\",\n",
    "                                                                                                 1, 1000,\n",
    "                                                                                                 \"YOU MUST'VE STOLEN THIS FROM THE CLEANING SECTION TO WIPE OUT YOUR CART\")\n",
    "            self.section_list.append(\"YOU MUST'VE STOLEN THIS FROM THE CLEANING SECTION TO WIPE OUT YOUR CART\")\n",
    "            return input(f\"... you can't empty a cart that's already empty...sigh. \\\n",
    "                         Unless you're emptying it of the germs that have been \\\n",
    "                         sitting in it for months, never cleaned out from the \\\n",
    "                         crevices of this sticky plastic mesh on wheels.\\\n",
    "                         I'm gonna go ahead and \\x1Bassume\\x1B that that's \\\n",
    "                         what you meant. Anyway... let's try again.\\n{self.shop_message}\")\n",
    "        \n",
    "    def scanItems(self):\n",
    "        \"\"\"\n",
    "        scanItems()\n",
    "        The function that \"scans\" the items from the user's cart and tells them \n",
    "        what they are purchasing and the cost.\n",
    "        Returns the formatted string of their receipt.\n",
    "        \"\"\"\n",
    "        # make sure every item is printed based on section\n",
    "        print(\"Let me scan your items.\")\n",
    "        scan_string = f\"\"\n",
    "        if self.total > 0:\n",
    "            scan_string += f\"As a reminder, you were fined ${self.total}for trying to delete my cart. Nice try.\"\n",
    "        for item in self.shopping_list.keys():\n",
    "            scan_string += f\"\\nItem: {self.shopping_list[item].getItem()}\\n\"\n",
    "            scan_string += f\"Quantity: {self.shopping_list[item].getQuantity()}\\n\"\n",
    "            if self.shopping_list[item].getSection() == 'DAIRY':\n",
    "                scan_string += f\"There is a $2 extra fee per dairy product.\\n\"\n",
    "            scan_string += f\"Price per unit: ${self.shopping_list[item].getPrice()}\\n\"\n",
    "            scan_string += f\"Price for {self.shopping_list[item].getQuantity()} items x ${self.shopping_list[item].getPrice()}= ${round(self.shopping_list[item].getQuantity() * self.shopping_list[item].getPrice(), 2)}\\n\"\n",
    "            self.total += (self.shopping_list[item].getQuantity() * self.shopping_list[item].getPrice())\n",
    "        \n",
    "        scan_string += f\"\\nTotal Price: ${self.total}\\n\"\n",
    "        sales_tax = self.total * .02\n",
    "        scan_string += f\"Sales Tax (2%): ${round(sales_tax, 2)}\\n\"\n",
    "        scan_string += f\"Final Total: ${round(sales_tax+self.total, 2)}\"\n",
    "        return scan_string\n",
    "    \n",
    "    def shoplifting(self):\n",
    "        \"\"\"\n",
    "        shoplifting()\n",
    "        A function that punishes the user for shoplifting.\n",
    "        Does not return anything.\n",
    "        \"\"\"\n",
    "        print(\"HOW DARE YOU TRY TO LEAVE WITHOUT PAYING!!!!!!!!!!!!!!!!\\\n",
    "               We will escort you back to your car.\\n\\\n",
    "              Do NOT dare try to come back into our store. There is no forgiveness.\\\n",
    "            \\n\\n\\n\\nHave a nice day!\")\n",
    "\n",
    "\n",
    "# SHOPPING ITEM CLASS\n",
    "class ShoppingItem():\n",
    "    \"\"\"\n",
    "    ShoppingItem(item:str, quantity:int, price:float, section='SECTION UNKNOWN':str)\n",
    "      A class that of an item added to the shopping cart. It takes in\n",
    "      a string (item), an int (quantity), a float (price), and an optional string\n",
    "      (default is \"Section Unknown\" which holds the section in the store the item\n",
    "      belongs in.)\n",
    "    \"\"\"\n",
    "    def __init__(self, item, quantity, price, section='SECTION UNKNOWN'):\n",
    "        \"\"\"\n",
    "        __init__(item:str, quantity:int, price:float, section='Section Unknown':str)\n",
    "        The initializing function for a ShoppingItem.\n",
    "        \"\"\"\n",
    "        self.item = item\n",
    "        self.quantity = quantity \n",
    "        self.section = section\n",
    "        self.price = price\n",
    "\n",
    "    #updates quantity of item\n",
    "    def setQuantity(self, num):\n",
    "        \"\"\"\n",
    "        setQuantity(num:int)\n",
    "        A function that sets the Quantity of a ShoppingItem. It takes in the int\n",
    "        that is set to be the quantity of the item.\n",
    "        \"\"\"\n",
    "        self.quantity = num\n",
    "\n",
    "    # returns section where item is located\n",
    "    def getSection(self):\n",
    "        \"\"\"\n",
    "        getSection()\n",
    "        A function that gets the section of a store that a ShoppingItem is located\n",
    "        at. Returns the section.\n",
    "        \"\"\"\n",
    "        return self.section\n",
    "    \n",
    "    # returns item -> used in checkout\n",
    "    def getItem(self):\n",
    "        \"\"\"\n",
    "        getItem()\n",
    "        A function that gets the item for a ShoppingItem object. Returns the item.\n",
    "        \"\"\"\n",
    "        return self.item\n",
    "    \n",
    "    def getQuantity(self): # do we need this? -- yes, for formattedList\n",
    "        \"\"\"\n",
    "        getQuantity()\n",
    "        A function that gets the quantity of a ShoppingItem object. Returns the quantity.\n",
    "        \"\"\"\n",
    "        return self.quantity\n",
    "    \n",
    "    def getPrice(self):\n",
    "        \"\"\"\n",
    "        getPrice()\n",
    "        A function that gets the price of a ShoppingItem object. Returns the price.\n",
    "        \"\"\"\n",
    "        return self.price\n",
    "\n",
    "\n",
    "cart = Cart()\n",
    "output = cart.startShopping()\n",
    "while True:\n",
    "    if output == 'add':\n",
    "        output = cart.addItemToCart()\n",
    "    elif output == 'delete':\n",
    "        output = cart.delFromShoppingCart()\n",
    "    elif output == 'show':\n",
    "        output = cart.showShoppingList()\n",
    "    elif output == 'clear':\n",
    "        output = cart.clearCart()\n",
    "    elif output == 'pay':\n",
    "        clear_output()\n",
    "        print(cart.scanItems())\n",
    "        print(f\"\\nThank you for shopping with us today. Please come back again soon.\")\n",
    "        break\n",
    "    elif output == 'quit': #unlisted option, if user tries to quit without paying\n",
    "        cart.shoplifting()\n",
    "        break\n",
    "    else:\n",
    "        output = cart.incorrectInput()\n",
    "\n"
   ]
  },
  {
   "cell_type": "markdown",
   "metadata": {},
   "source": [
    "### Exercise 2 - Write a Python class which has two methods get_String and print_String. get_String accept a string from the user and print_String print the string in upper case"
   ]
  },
  {
   "cell_type": "code",
   "execution_count": 6,
   "metadata": {},
   "outputs": [
    {
     "name": "stdout",
     "output_type": "stream",
     "text": [
      "SHOHA\n"
     ]
    }
   ],
   "source": [
    "class StringClass():\n",
    "    def __init__(self):\n",
    "        pass\n",
    "    def get_String(self):\n",
    "        self.string = input(\"What would you like me to print in uppercase for you?\")\n",
    "    def print_String(self):\n",
    "        print(self.string.upper())\n",
    "\n",
    "str = StringClass()\n",
    "str.get_String()\n",
    "str.print_String()\n"
   ]
  }
 ],
 "metadata": {
  "kernelspec": {
   "display_name": "Python 3 (ipykernel)",
   "language": "python",
   "name": "python3"
  },
  "language_info": {
   "codemirror_mode": {
    "name": "ipython",
    "version": 3
   },
   "file_extension": ".py",
   "mimetype": "text/x-python",
   "name": "python",
   "nbconvert_exporter": "python",
   "pygments_lexer": "ipython3",
   "version": "3.9.13"
  }
 },
 "nbformat": 4,
 "nbformat_minor": 2
}
